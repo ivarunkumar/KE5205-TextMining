{
 "cells": [
  {
   "cell_type": "code",
   "execution_count": 27,
   "metadata": {
    "collapsed": true
   },
   "outputs": [],
   "source": [
    "#import package\n",
    "import requests"
   ]
  },
  {
   "cell_type": "code",
   "execution_count": 28,
   "metadata": {
    "collapsed": true
   },
   "outputs": [],
   "source": [
    "#Assign URL to variable L url\n",
    "url = \"http://www.omdbapi.com/?apikey=ff21610b&t=Wolf Warrior\""
   ]
  },
  {
   "cell_type": "code",
   "execution_count": 29,
   "metadata": {
    "collapsed": true
   },
   "outputs": [],
   "source": [
    "# Package the request, send the request and catch the response: r\n",
    "r = requests.get(url)"
   ]
  },
  {
   "cell_type": "code",
   "execution_count": 30,
   "metadata": {},
   "outputs": [
    {
     "name": "stdout",
     "output_type": "stream",
     "text": [
      "{\"Title\":\"Wolf Warrior\",\"Year\":\"2015\",\"Rated\":\"N/A\",\"Released\":\"06 Apr 2015\",\"Runtime\":\"90 min\",\"Genre\":\"Action, Crime, Thriller\",\"Director\":\"Jing Wu\",\"Writer\":\"Qun Dong, Yan Gao, Yi Liu, Jing Wu\",\"Actors\":\"Jing Wu, Nan Yu, Dahong Ni, Zhu Xiao\",\"Plot\":\"A Chinese special force soldier with extraordinary marksmanship is confronted by a group of deadly foreign mercenaries who are hired to assassinate him by a vicious drug lord.\",\"Language\":\"Mandarin\",\"Country\":\"China\",\"Awards\":\"3 wins & 11 nominations.\",\"Poster\":\"https://images-na.ssl-images-amazon.com/images/M/MV5BMzI5NDQ0MDU2M15BMl5BanBnXkFtZTgwNDMyMTIyNjE@._V1_SX300.jpg\",\"Ratings\":[{\"Source\":\"Internet Movie Database\",\"Value\":\"5.4/10\"}],\"Metascore\":\"N/A\",\"imdbRating\":\"5.4\",\"imdbVotes\":\"1,624\",\"imdbID\":\"tt3540136\",\"Type\":\"movie\",\"DVD\":\"N/A\",\"BoxOffice\":\"N/A\",\"Production\":\"N/A\",\"Website\":\"N/A\",\"Response\":\"True\"}\n"
     ]
    }
   ],
   "source": [
    "# print out the info\n",
    "print(r.text)"
   ]
  },
  {
   "cell_type": "code",
   "execution_count": 31,
   "metadata": {
    "collapsed": true
   },
   "outputs": [],
   "source": [
    "# decode the  JSON data into a dictionary: json_data\n",
    "json_data = r.json()"
   ]
  },
  {
   "cell_type": "code",
   "execution_count": 32,
   "metadata": {},
   "outputs": [
    {
     "name": "stdout",
     "output_type": "stream",
     "text": [
      "Title:  Wolf Warrior\n",
      "Year:  2015\n",
      "Rated:  N/A\n",
      "Released:  06 Apr 2015\n",
      "Runtime:  90 min\n",
      "Genre:  Action, Crime, Thriller\n",
      "Director:  Jing Wu\n",
      "Writer:  Qun Dong, Yan Gao, Yi Liu, Jing Wu\n",
      "Actors:  Jing Wu, Nan Yu, Dahong Ni, Zhu Xiao\n",
      "Plot:  A Chinese special force soldier with extraordinary marksmanship is confronted by a group of deadly foreign mercenaries who are hired to assassinate him by a vicious drug lord.\n",
      "Language:  Mandarin\n",
      "Country:  China\n",
      "Awards:  3 wins & 11 nominations.\n",
      "Poster:  https://images-na.ssl-images-amazon.com/images/M/MV5BMzI5NDQ0MDU2M15BMl5BanBnXkFtZTgwNDMyMTIyNjE@._V1_SX300.jpg\n",
      "Ratings:  [{'Source': 'Internet Movie Database', 'Value': '5.4/10'}]\n",
      "Metascore:  N/A\n",
      "imdbRating:  5.4\n",
      "imdbVotes:  1,624\n",
      "imdbID:  tt3540136\n",
      "Type:  movie\n",
      "DVD:  N/A\n",
      "BoxOffice:  N/A\n",
      "Production:  N/A\n",
      "Website:  N/A\n",
      "Response:  True\n"
     ]
    }
   ],
   "source": [
    "# Print each key-value pair in json_data\n",
    "for k in json_data.keys():\n",
    "    print(k + ': ', json_data[k])"
   ]
  },
  {
   "cell_type": "code",
   "execution_count": 33,
   "metadata": {
    "collapsed": true
   },
   "outputs": [],
   "source": [
    "# "
   ]
  }
 ],
 "metadata": {
  "kernelspec": {
   "display_name": "Python 3",
   "language": "python",
   "name": "python3"
  },
  "language_info": {
   "codemirror_mode": {
    "name": "ipython",
    "version": 3
   },
   "file_extension": ".py",
   "mimetype": "text/x-python",
   "name": "python",
   "nbconvert_exporter": "python",
   "pygments_lexer": "ipython3",
   "version": "3.6.1"
  }
 },
 "nbformat": 4,
 "nbformat_minor": 2
}
